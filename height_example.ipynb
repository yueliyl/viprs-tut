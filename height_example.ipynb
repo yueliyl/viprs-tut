{
  "cells": [
    {
      "cell_type": "markdown",
      "metadata": {
        "id": "view-in-github",
        "colab_type": "text"
      },
      "source": [
        "<a href=\"https://colab.research.google.com/github/yueliyl/viprs-tut/blob/main/height_example.ipynb\" target=\"_parent\"><img src=\"https://colab.research.google.com/assets/colab-badge.svg\" alt=\"Open In Colab\"/></a>"
      ]
    },
    {
      "cell_type": "markdown",
      "metadata": {
        "pycharm": {
          "name": "#%% md\n"
        },
        "id": "5aX7mv0pvdmI"
      },
      "source": [
        "# Fitting VIPRS Model on GWAS data for Standing Height from the UK Biobank"
      ]
    },
    {
      "cell_type": "markdown",
      "metadata": {
        "id": "pTx3LSWhvdmJ"
      },
      "source": [
        "This example illustrate how to fit the `VIPRS` model on external GWAS summary statistics\n",
        "from the `fastGWA` catalog. The `fastGWA` catalog is a comprehensive GWAS resource on\n",
        "thousands of phenotypes from the UK Biobank. In this example, we will walk the user\n",
        "through 4 important steps in fitting PRS models to publicly available GWAS summary data:\n",
        "\n",
        "1. **Data pre-processing**: Download the GWAS summary statistics for height and **match** them to genotype data for European samples from the 1000G project. The genotype data is restricted to about 15,000 variants on chromosome 22 for now.\n",
        "\n",
        "2. **Compute LD matrices**: After the GWAS data is downloaded and harmonized with the genotype data, we will compute Linkage-Disequilibrium (LD) matrices that will be used in model fitting. In most applications, it suffices to use publicly available LD matrices, but this example will illustrate how to compute these matrices from genotype data.\n",
        "\n",
        "3. **Model fit**: After the data is preprocessed and we have the LD matrices computed, we will fit the `VIPRS` model to the data. This will result in a set of inferred effect sizes for each of the 15,000 variants.\n",
        "\n",
        "4. **Prediction**: After the model is fit, we will predict (sometimes called scoring or linear scoring) height for the 1000G samples. Unfortunately, we don't have real phenotypes for those samples, so we can't evaluate accuracy, but we can inspect the distribution of polygenic scores, etc.\n",
        "\n",
        "But first things first, let's install and import the needed packages to run this analysis:"
      ]
    },
    {
      "cell_type": "code",
      "source": [
        "import warnings\n",
        "warnings.filterwarnings(\"ignore\") # ignore warnings\n",
        "\n",
        "!pip install magenpy>=0.1.1 matplotlib scikit-learn\n",
        "!pip install --quiet pandas==2.2.1\n",
        "!pip install --quiet git+https://github.com/yueliyl/viprs # ignore pandas error\n",
        "!pip install xarray==2023.10.1"
      ],
      "metadata": {
        "colab": {
          "base_uri": "https://localhost:8080/"
        },
        "id": "FcyGwlinv5vU",
        "outputId": "6230f056-2db8-49f3-e68f-fce0390a29b0"
      },
      "execution_count": null,
      "outputs": [
        {
          "output_type": "stream",
          "name": "stdout",
          "text": [
            "Collecting git+https://github.com/yueliyl/viprs\n",
            "  Cloning https://github.com/yueliyl/viprs to /tmp/pip-req-build-wi_bq44t\n",
            "  Running command git clone --filter=blob:none --quiet https://github.com/yueliyl/viprs /tmp/pip-req-build-wi_bq44t\n",
            "  Resolved https://github.com/yueliyl/viprs to commit 6688b58ab83c900a8f356eaf8a7a929079709fd3\n",
            "  Installing build dependencies ... \u001b[?25l\u001b[?25hdone\n",
            "  Getting requirements to build wheel ... \u001b[?25l\u001b[?25hdone\n",
            "  Preparing metadata (pyproject.toml) ... \u001b[?25l\u001b[?25hdone\n",
            "Collecting pandas==2.2.1\n",
            "  Downloading pandas-2.2.1-cp310-cp310-manylinux_2_17_x86_64.manylinux2014_x86_64.whl.metadata (19 kB)\n",
            "Requirement already satisfied: numpy<2,>=1.22.4 in /usr/local/lib/python3.10/dist-packages (from pandas==2.2.1) (1.26.4)\n",
            "Requirement already satisfied: python-dateutil>=2.8.2 in /usr/local/lib/python3.10/dist-packages (from pandas==2.2.1) (2.8.2)\n",
            "Requirement already satisfied: pytz>=2020.1 in /usr/local/lib/python3.10/dist-packages (from pandas==2.2.1) (2024.2)\n",
            "Requirement already satisfied: tzdata>=2022.7 in /usr/local/lib/python3.10/dist-packages (from pandas==2.2.1) (2024.2)\n",
            "Requirement already satisfied: scipy in /usr/local/lib/python3.10/dist-packages (from viprs==0.1.2) (1.13.1)\n",
            "Requirement already satisfied: tqdm in /usr/local/lib/python3.10/dist-packages (from viprs==0.1.2) (4.66.6)\n",
            "Requirement already satisfied: magenpy>=0.1 in /usr/local/lib/python3.10/dist-packages (from viprs==0.1.2) (0.1.3)\n",
            "Requirement already satisfied: statsmodels in /usr/local/lib/python3.10/dist-packages (from viprs==0.1.2) (0.14.4)\n",
            "Requirement already satisfied: scikit-learn in /usr/local/lib/python3.10/dist-packages (from viprs==0.1.2) (1.5.2)\n",
            "Requirement already satisfied: psutil in /usr/local/lib/python3.10/dist-packages (from viprs==0.1.2) (5.9.5)\n",
            "Requirement already satisfied: dask<=2024.1.0 in /usr/local/lib/python3.10/dist-packages (from magenpy>=0.1->viprs==0.1.2) (2024.1.0)\n",
            "Requirement already satisfied: pandas-plink in /usr/local/lib/python3.10/dist-packages (from magenpy>=0.1->viprs==0.1.2) (2.3.1)\n",
            "Requirement already satisfied: zarr in /usr/local/lib/python3.10/dist-packages (from magenpy>=0.1->viprs==0.1.2) (2.18.3)\n",
            "Requirement already satisfied: six>=1.5 in /usr/local/lib/python3.10/dist-packages (from python-dateutil>=2.8.2->pandas==2.2.1) (1.16.0)\n",
            "Requirement already satisfied: joblib>=1.2.0 in /usr/local/lib/python3.10/dist-packages (from scikit-learn->viprs==0.1.2) (1.4.2)\n",
            "Requirement already satisfied: threadpoolctl>=3.1.0 in /usr/local/lib/python3.10/dist-packages (from scikit-learn->viprs==0.1.2) (3.5.0)\n",
            "Requirement already satisfied: patsy>=0.5.6 in /usr/local/lib/python3.10/dist-packages (from statsmodels->viprs==0.1.2) (1.0.1)\n",
            "Requirement already satisfied: packaging>=21.3 in /usr/local/lib/python3.10/dist-packages (from statsmodels->viprs==0.1.2) (24.2)\n",
            "Requirement already satisfied: click>=8.1 in /usr/local/lib/python3.10/dist-packages (from dask<=2024.1.0->magenpy>=0.1->viprs==0.1.2) (8.1.7)\n",
            "Requirement already satisfied: cloudpickle>=1.5.0 in /usr/local/lib/python3.10/dist-packages (from dask<=2024.1.0->magenpy>=0.1->viprs==0.1.2) (3.1.0)\n",
            "Requirement already satisfied: fsspec>=2021.09.0 in /usr/local/lib/python3.10/dist-packages (from dask<=2024.1.0->magenpy>=0.1->viprs==0.1.2) (2024.10.0)\n",
            "Requirement already satisfied: partd>=1.2.0 in /usr/local/lib/python3.10/dist-packages (from dask<=2024.1.0->magenpy>=0.1->viprs==0.1.2) (1.4.2)\n",
            "Requirement already satisfied: pyyaml>=5.3.1 in /usr/local/lib/python3.10/dist-packages (from dask<=2024.1.0->magenpy>=0.1->viprs==0.1.2) (6.0.2)\n",
            "Requirement already satisfied: toolz>=0.10.0 in /usr/local/lib/python3.10/dist-packages (from dask<=2024.1.0->magenpy>=0.1->viprs==0.1.2) (0.12.1)\n",
            "Requirement already satisfied: importlib-metadata>=4.13.0 in /usr/local/lib/python3.10/dist-packages (from dask<=2024.1.0->magenpy>=0.1->viprs==0.1.2) (8.5.0)\n",
            "Requirement already satisfied: cffi<2.0,>=1.16 in /usr/local/lib/python3.10/dist-packages (from pandas-plink->magenpy>=0.1->viprs==0.1.2) (1.17.1)\n",
            "Requirement already satisfied: deprecated<2.0,>=1.2 in /usr/local/lib/python3.10/dist-packages (from pandas-plink->magenpy>=0.1->viprs==0.1.2) (1.2.15)\n",
            "Requirement already satisfied: pandera[dask,mypy] in /usr/local/lib/python3.10/dist-packages (from pandas-plink->magenpy>=0.1->viprs==0.1.2) (0.21.0)\n",
            "Requirement already satisfied: xarray in /usr/local/lib/python3.10/dist-packages (from pandas-plink->magenpy>=0.1->viprs==0.1.2) (2024.10.0)\n",
            "Requirement already satisfied: zstandard<0.23,>=0.22 in /usr/local/lib/python3.10/dist-packages (from pandas-plink->magenpy>=0.1->viprs==0.1.2) (0.22.0)\n",
            "Requirement already satisfied: asciitree in /usr/local/lib/python3.10/dist-packages (from zarr->magenpy>=0.1->viprs==0.1.2) (0.3.3)\n",
            "Requirement already satisfied: numcodecs>=0.10.0 in /usr/local/lib/python3.10/dist-packages (from zarr->magenpy>=0.1->viprs==0.1.2) (0.13.1)\n",
            "Requirement already satisfied: fasteners in /usr/local/lib/python3.10/dist-packages (from zarr->magenpy>=0.1->viprs==0.1.2) (0.19)\n",
            "Requirement already satisfied: pycparser in /usr/local/lib/python3.10/dist-packages (from cffi<2.0,>=1.16->pandas-plink->magenpy>=0.1->viprs==0.1.2) (2.22)\n",
            "Requirement already satisfied: wrapt<2,>=1.10 in /usr/local/lib/python3.10/dist-packages (from deprecated<2.0,>=1.2->pandas-plink->magenpy>=0.1->viprs==0.1.2) (1.16.0)\n",
            "Requirement already satisfied: zipp>=3.20 in /usr/local/lib/python3.10/dist-packages (from importlib-metadata>=4.13.0->dask<=2024.1.0->magenpy>=0.1->viprs==0.1.2) (3.21.0)\n",
            "Requirement already satisfied: locket in /usr/local/lib/python3.10/dist-packages (from partd>=1.2.0->dask<=2024.1.0->magenpy>=0.1->viprs==0.1.2) (1.0.0)\n",
            "Requirement already satisfied: multimethod in /usr/local/lib/python3.10/dist-packages (from pandera[dask,mypy]->pandas-plink->magenpy>=0.1->viprs==0.1.2) (1.12)\n",
            "Requirement already satisfied: pydantic in /usr/local/lib/python3.10/dist-packages (from pandera[dask,mypy]->pandas-plink->magenpy>=0.1->viprs==0.1.2) (2.9.2)\n",
            "Requirement already satisfied: typeguard in /usr/local/lib/python3.10/dist-packages (from pandera[dask,mypy]->pandas-plink->magenpy>=0.1->viprs==0.1.2) (4.4.1)\n",
            "Requirement already satisfied: typing-inspect>=0.6.0 in /usr/local/lib/python3.10/dist-packages (from pandera[dask,mypy]->pandas-plink->magenpy>=0.1->viprs==0.1.2) (0.9.0)\n",
            "Requirement already satisfied: pandas-stubs in /usr/local/lib/python3.10/dist-packages (from pandera[dask,mypy]->pandas-plink->magenpy>=0.1->viprs==0.1.2) (2.2.2.240909)\n",
            "Requirement already satisfied: mypy-extensions>=0.3.0 in /usr/local/lib/python3.10/dist-packages (from typing-inspect>=0.6.0->pandera[dask,mypy]->pandas-plink->magenpy>=0.1->viprs==0.1.2) (1.0.0)\n",
            "Requirement already satisfied: typing-extensions>=3.7.4 in /usr/local/lib/python3.10/dist-packages (from typing-inspect>=0.6.0->pandera[dask,mypy]->pandas-plink->magenpy>=0.1->viprs==0.1.2) (4.12.2)\n",
            "Requirement already satisfied: types-pytz>=2022.1.1 in /usr/local/lib/python3.10/dist-packages (from pandas-stubs->pandera[dask,mypy]->pandas-plink->magenpy>=0.1->viprs==0.1.2) (2024.2.0.20241003)\n",
            "Requirement already satisfied: annotated-types>=0.6.0 in /usr/local/lib/python3.10/dist-packages (from pydantic->pandera[dask,mypy]->pandas-plink->magenpy>=0.1->viprs==0.1.2) (0.7.0)\n",
            "Requirement already satisfied: pydantic-core==2.23.4 in /usr/local/lib/python3.10/dist-packages (from pydantic->pandera[dask,mypy]->pandas-plink->magenpy>=0.1->viprs==0.1.2) (2.23.4)\n",
            "Downloading pandas-2.2.1-cp310-cp310-manylinux_2_17_x86_64.manylinux2014_x86_64.whl (13.0 MB)\n",
            "\u001b[2K   \u001b[90m━━━━━━━━━━━━━━━━━━━━━━━━━━━━━━━━━━━━━━━━\u001b[0m \u001b[32m13.0/13.0 MB\u001b[0m \u001b[31m81.9 MB/s\u001b[0m eta \u001b[36m0:00:00\u001b[0m\n",
            "\u001b[?25hBuilding wheels for collected packages: viprs\n"
          ]
        }
      ]
    },
    {
      "cell_type": "code",
      "source": [
        "import os\n",
        "os._exit(0) # restart colab kernel to load the installed magenpy"
      ],
      "metadata": {
        "id": "Fp6yNFU8xOo6"
      },
      "execution_count": null,
      "outputs": []
    },
    {
      "cell_type": "code",
      "execution_count": null,
      "metadata": {
        "ExecuteTime": {
          "end_time": "2024-04-05T21:04:15.754890Z",
          "start_time": "2024-04-05T21:04:15.741558Z"
        },
        "id": "j-BA8K8VvdmK"
      },
      "outputs": [],
      "source": [
        "import numpy as np\n",
        "import magenpy as mgp\n",
        "import viprs as vp\n",
        "import matplotlib.pyplot as plt"
      ]
    },
    {
      "cell_type": "markdown",
      "metadata": {
        "id": "EOT9E3LPvdmK"
      },
      "source": [
        "## 1) Data pre-processing & harmonization"
      ]
    },
    {
      "cell_type": "markdown",
      "metadata": {
        "id": "TMKHWh7KvdmK"
      },
      "source": [
        "First, let's load and harmonize the data using `magenpy`:"
      ]
    },
    {
      "cell_type": "code",
      "execution_count": null,
      "metadata": {
        "ExecuteTime": {
          "end_time": "2024-04-05T16:48:56.738961Z",
          "start_time": "2024-04-05T16:47:45.811770Z"
        },
        "pycharm": {
          "name": "#%%\n"
        },
        "colab": {
          "base_uri": "https://localhost:8080/"
        },
        "id": "G4I2L99CvdmK",
        "outputId": "014afcf5-d1a0-43e1-8a5c-6f4ad09f7d5f"
      },
      "outputs": [
        {
          "output_type": "stream",
          "name": "stdout",
          "text": [
            "> Reading genotype metadata...\n",
            "> Reading summary statistics...\n"
          ]
        },
        {
          "output_type": "stream",
          "name": "stderr",
          "text": [
            "Harmonizing data: 100%|██████████| 22/22 [00:09<00:00,  2.25it/s]\n"
          ]
        }
      ],
      "source": [
        "# GWAS summary statistics for Standing Height from fastGWA:\n",
        "sumstats_url = \"https://yanglab.westlake.edu.cn/data/fastgwa_data/UKB/50.v1.1.fastGWA.gz\"\n",
        "\n",
        "# Load genotype data for European samples in the 1000G project (chromosome 22):\n",
        "gdl = mgp.GWADataLoader(bed_files=mgp.tgp_eur_data_path(),\n",
        "                        sumstats_files=sumstats_url,\n",
        "                        sumstats_format=\"fastGWA\")"
      ]
    },
    {
      "cell_type": "markdown",
      "metadata": {
        "id": "EwpQveiBvdmL"
      },
      "source": [
        "## 2) Computing LD matrices:"
      ]
    },
    {
      "cell_type": "markdown",
      "metadata": {
        "pycharm": {
          "name": "#%% md\n"
        },
        "id": "0U4w7UKfvdmL"
      },
      "source": [
        "Then, we use `magenpy` to compute the reference LD matrices:"
      ]
    },
    {
      "cell_type": "code",
      "execution_count": null,
      "metadata": {
        "ExecuteTime": {
          "end_time": "2024-04-05T16:50:06.154841Z",
          "start_time": "2024-04-05T16:49:57.010351Z"
        },
        "pycharm": {
          "name": "#%%\n"
        },
        "colab": {
          "base_uri": "https://localhost:8080/"
        },
        "id": "NFA_KF85vdmL",
        "outputId": "48ee38f1-a5af-4adb-f500-ff27d6fd105e"
      },
      "outputs": [
        {
          "output_type": "stream",
          "name": "stdout",
          "text": [
            "> Computing LD matrix...\n"
          ]
        }
      ],
      "source": [
        "# Compute LD using the shrinkage estimator (Wen and Stephens 2010):\n",
        "gdl.compute_ld(\"shrinkage\",\n",
        "               output_dir=\"~/temp\",  # Output directory where the LD matrix will be stored\n",
        "               genetic_map_ne=11400, # effective population size (Ne)\n",
        "               genetic_map_sample_size=183,\n",
        "               threshold=1e-3)"
      ]
    },
    {
      "cell_type": "markdown",
      "metadata": {
        "id": "L0gUVdPRvdmL"
      },
      "source": [
        "## 3) Model fit"
      ]
    },
    {
      "cell_type": "markdown",
      "metadata": {
        "pycharm": {
          "name": "#%% md\n"
        },
        "id": "pFwdfufivdmL"
      },
      "source": [
        "Next, we fit the `VIPRS` to the harmonized GWAS summary statistics data. Note that the fit will mainly be done on the variants on chromosome 22:"
      ]
    },
    {
      "cell_type": "code",
      "execution_count": null,
      "metadata": {
        "ExecuteTime": {
          "end_time": "2024-04-05T16:50:16.136153Z",
          "start_time": "2024-04-05T16:50:11.574996Z"
        },
        "pycharm": {
          "name": "#%%\n"
        },
        "colab": {
          "base_uri": "https://localhost:8080/",
          "height": 49,
          "referenced_widgets": [
            "a3ce991c50bd46708b8791cdc342315d",
            "8cd17e9adb6f45328b0fefb437f7e925",
            "d8706103d6b24b248194a3dd897dcfeb",
            "a567233cdd664a74bc3a38e1f3d35899",
            "0444aa27c66d41c4b7e154125abd2d80",
            "ab0f9fc4ca75450c86526e14d19e17b1",
            "20d4977fd13f47b18e8934fa1e2542db",
            "486b42c5f34d453d9f3d2b3ecea99012",
            "c133b1d458ef49e3bccedf5ed8958341",
            "fbb7a334506143f39a36b89ceb057e94",
            "b0599efc09854491b5787e83bce5890e"
          ]
        },
        "id": "mMJ6VguBvdmL",
        "outputId": "abcbb3c2-a27e-4780-ee0b-c9ee9e498074"
      },
      "outputs": [
        {
          "output_type": "display_data",
          "data": {
            "text/plain": [
              "Chromosome 22 (15935 variants):   0%|          | 0/1000 [00:00<?, ?it/s]"
            ],
            "application/vnd.jupyter.widget-view+json": {
              "version_major": 2,
              "version_minor": 0,
              "model_id": "a3ce991c50bd46708b8791cdc342315d"
            }
          },
          "metadata": {}
        }
      ],
      "source": [
        "# Fit VIPRS to the summary statistics:\n",
        "v = vp.VIPRS(gdl).fit()"
      ]
    },
    {
      "cell_type": "markdown",
      "metadata": {
        "ExecuteTime": {
          "end_time": "2024-04-05T21:06:25.384444Z",
          "start_time": "2024-04-05T21:06:25.350656Z"
        },
        "id": "sDjnRzI6vdmL"
      },
      "source": [
        "To verify that the model fit behaved as expected with no issues, we can inspect\n",
        "the objective (Evidence Lower BOund or `ELBO`) as a function of the number of iterations. `viprs` provides a\n",
        "convenience function to generate this plot:"
      ]
    },
    {
      "cell_type": "code",
      "execution_count": null,
      "metadata": {
        "ExecuteTime": {
          "end_time": "2024-04-05T21:06:37.819682Z",
          "start_time": "2024-04-05T21:06:35.161637Z"
        },
        "colab": {
          "base_uri": "https://localhost:8080/",
          "height": 524
        },
        "id": "6LI58PgFvdmL",
        "outputId": "58b1764c-feac-4f39-90f3-b122329cb092"
      },
      "outputs": [
        {
          "output_type": "execute_result",
          "data": {
            "text/plain": [
              "<seaborn.axisgrid.FacetGrid at 0x7d8750e9a050>"
            ]
          },
          "metadata": {},
          "execution_count": 5
        },
        {
          "output_type": "display_data",
          "data": {
            "text/plain": [
              "<Figure size 500x500 with 1 Axes>"
            ],
            "image/png": "[encoded data removed]"
          },
          "metadata": {}
        }
      ],
      "source": [
        "from viprs.plot.diagnostics import plot_history\n",
        "\n",
        "plot_history(v)"
      ]
    },
    {
      "cell_type": "markdown",
      "metadata": {
        "id": "5zP29qddvdmM"
      },
      "source": [
        "Now that the model converged, we can inspect its estimates of both the global hyperparameters as well as summaries of the posterior distribution for the effect sizes of individual variants.\n",
        "\n",
        "To obtain the estimates for some of the global hyperparameters, such as heritability, residual variance, proportion of causal variants, etc., we can simply invoke the method `.to_theta_table`:"
      ]
    },
    {
      "cell_type": "code",
      "execution_count": null,
      "metadata": {
        "ExecuteTime": {
          "end_time": "2024-04-05T21:09:58.696758Z",
          "start_time": "2024-04-05T21:09:58.688218Z"
        },
        "colab": {
          "base_uri": "https://localhost:8080/",
          "height": 206
        },
        "id": "NtmceNV7vdmM",
        "outputId": "ad6e44b9-75e6-4dfc-99c9-c829bec8bebd"
      },
      "outputs": [
        {
          "output_type": "execute_result",
          "data": {
            "text/plain": [
              "                 Parameter         Value\n",
              "0        Residual_variance  9.941881e-01\n",
              "1             Heritability  5.811735e-03\n",
              "2        Proportion_causal  1.512496e-02\n",
              "3  Average_effect_variance  3.521708e-07\n",
              "4                 tau_beta  4.294780e+04"
            ],
            "text/html": [
              "\n",
              "  <div id=\"df-d01c8089-e4d9-4b20-8522-528d4b821aeb\" class=\"colab-df-container\">\n",
              "    <div>\n",
              "<style scoped>\n",
              "    .dataframe tbody tr th:only-of-type {\n",
              "        vertical-align: middle;\n",
              "    }\n",
              "\n",
              "    .dataframe tbody tr th {\n",
              "        vertical-align: top;\n",
              "    }\n",
              "\n",
              "    .dataframe thead th {\n",
              "        text-align: right;\n",
              "    }\n",
              "</style>\n",
              "<table border=\"1\" class=\"dataframe\">\n",
              "  <thead>\n",
              "    <tr style=\"text-align: right;\">\n",
              "      <th></th>\n",
              "      <th>Parameter</th>\n",
              "      <th>Value</th>\n",
              "    </tr>\n",
              "  </thead>\n",
              "  <tbody>\n",
              "    <tr>\n",
              "      <th>0</th>\n",
              "      <td>Residual_variance</td>\n",
              "      <td>9.941881e-01</td>\n",
              "    </tr>\n",
              "    <tr>\n",
              "      <th>1</th>\n",
              "      <td>Heritability</td>\n",
              "      <td>5.811735e-03</td>\n",
              "    </tr>\n",
              "    <tr>\n",
              "      <th>2</th>\n",
              "      <td>Proportion_causal</td>\n",
              "      <td>1.512496e-02</td>\n",
              "    </tr>\n",
              "    <tr>\n",
              "      <th>3</th>\n",
              "      <td>Average_effect_variance</td>\n",
              "      <td>3.521708e-07</td>\n",
              "    </tr>\n",
              "    <tr>\n",
              "      <th>4</th>\n",
              "      <td>tau_beta</td>\n",
              "      <td>4.294780e+04</td>\n",
              "    </tr>\n",
              "  </tbody>\n",
              "</table>\n",
              "</div>\n",
              "    <div class=\"colab-df-buttons\">\n",
              "\n",
              "  <div class=\"colab-df-container\">\n",
              "    <button class=\"colab-df-convert\" onclick=\"convertToInteractive('df-d01c8089-e4d9-4b20-8522-528d4b821aeb')\"\n",
              "            title=\"Convert this dataframe to an interactive table.\"\n",
              "            style=\"display:none;\">\n",
              "\n",
              "  <svg xmlns=\"http://www.w3.org/2000/svg\" height=\"24px\" viewBox=\"0 -960 960 960\">\n",
              "    <path d=\"M120-120v-720h720v720H120Zm60-500h600v-160H180v160Zm220 220h160v-160H400v160Zm0 220h160v-160H400v160ZM180-400h160v-160H180v160Zm440 0h160v-160H620v160ZM180-180h160v-160H180v160Zm440 0h160v-160H620v160Z\"/>\n",
              "  </svg>\n",
              "    </button>\n",
              "\n",
              "  <style>\n",
              "    .colab-df-container {\n",
              "      display:flex;\n",
              "      gap: 12px;\n",
              "    }\n",
              "\n",
              "    .colab-df-convert {\n",
              "      background-color: #E8F0FE;\n",
              "      border: none;\n",
              "      border-radius: 50%;\n",
              "      cursor: pointer;\n",
              "      display: none;\n",
              "      fill: #1967D2;\n",
              "      height: 32px;\n",
              "      padding: 0 0 0 0;\n",
              "      width: 32px;\n",
              "    }\n",
              "\n",
              "    .colab-df-convert:hover {\n",
              "      background-color: #E2EBFA;\n",
              "      box-shadow: 0px 1px 2px rgba(60, 64, 67, 0.3), 0px 1px 3px 1px rgba(60, 64, 67, 0.15);\n",
              "      fill: #174EA6;\n",
              "    }\n",
              "\n",
              "    .colab-df-buttons div {\n",
              "      margin-bottom: 4px;\n",
              "    }\n",
              "\n",
              "    [theme=dark] .colab-df-convert {\n",
              "      background-color: #3B4455;\n",
              "      fill: #D2E3FC;\n",
              "    }\n",
              "\n",
              "    [theme=dark] .colab-df-convert:hover {\n",
              "      background-color: #434B5C;\n",
              "      box-shadow: 0px 1px 3px 1px rgba(0, 0, 0, 0.15);\n",
              "      filter: drop-shadow(0px 1px 2px rgba(0, 0, 0, 0.3));\n",
              "      fill: #FFFFFF;\n",
              "    }\n",
              "  </style>\n",
              "\n",
              "    <script>\n",
              "      const buttonEl =\n",
              "        document.querySelector('#df-d01c8089-e4d9-4b20-8522-528d4b821aeb button.colab-df-convert');\n",
              "      buttonEl.style.display =\n",
              "        google.colab.kernel.accessAllowed ? 'block' : 'none';\n",
              "\n",
              "      async function convertToInteractive(key) {\n",
              "        const element = document.querySelector('#df-d01c8089-e4d9-4b20-8522-528d4b821aeb');\n",
              "        const dataTable =\n",
              "          await google.colab.kernel.invokeFunction('convertToInteractive',\n",
              "                                                    [key], {});\n",
              "        if (!dataTable) return;\n",
              "\n",
              "        const docLinkHtml = 'Like what you see? Visit the ' +\n",
              "          '<a target=\"_blank\" href=https://colab.research.google.com/notebooks/data_table.ipynb>data table notebook</a>'\n",
              "          + ' to learn more about interactive tables.';\n",
              "        element.innerHTML = '';\n",
              "        dataTable['output_type'] = 'display_data';\n",
              "        await google.colab.output.renderOutput(dataTable, element);\n",
              "        const docLink = document.createElement('div');\n",
              "        docLink.innerHTML = docLinkHtml;\n",
              "        element.appendChild(docLink);\n",
              "      }\n",
              "    </script>\n",
              "  </div>\n",
              "\n",
              "\n",
              "<div id=\"df-64e4d6c4-3d3f-4072-a55f-6e145487d3f4\">\n",
              "  <button class=\"colab-df-quickchart\" onclick=\"quickchart('df-64e4d6c4-3d3f-4072-a55f-6e145487d3f4')\"\n",
              "            title=\"Suggest charts\"\n",
              "            style=\"display:none;\">\n",
              "\n",
              "<svg xmlns=\"http://www.w3.org/2000/svg\" height=\"24px\"viewBox=\"0 0 24 24\"\n",
              "     width=\"24px\">\n",
              "    <g>\n",
              "        <path d=\"M19 3H5c-1.1 0-2 .9-2 2v14c0 1.1.9 2 2 2h14c1.1 0 2-.9 2-2V5c0-1.1-.9-2-2-2zM9 17H7v-7h2v7zm4 0h-2V7h2v10zm4 0h-2v-4h2v4z\"/>\n",
              "    </g>\n",
              "</svg>\n",
              "  </button>\n",
              "\n",
              "<style>\n",
              "  .colab-df-quickchart {\n",
              "      --bg-color: #E8F0FE;\n",
              "      --fill-color: #1967D2;\n",
              "      --hover-bg-color: #E2EBFA;\n",
              "      --hover-fill-color: #174EA6;\n",
              "      --disabled-fill-color: #AAA;\n",
              "      --disabled-bg-color: #DDD;\n",
              "  }\n",
              "\n",
              "  [theme=dark] .colab-df-quickchart {\n",
              "      --bg-color: #3B4455;\n",
              "      --fill-color: #D2E3FC;\n",
              "      --hover-bg-color: #434B5C;\n",
              "      --hover-fill-color: #FFFFFF;\n",
              "      --disabled-bg-color: #3B4455;\n",
              "      --disabled-fill-color: #666;\n",
              "  }\n",
              "\n",
              "  .colab-df-quickchart {\n",
              "    background-color: var(--bg-color);\n",
              "    border: none;\n",
              "    border-radius: 50%;\n",
              "    cursor: pointer;\n",
              "    display: none;\n",
              "    fill: var(--fill-color);\n",
              "    height: 32px;\n",
              "    padding: 0;\n",
              "    width: 32px;\n",
              "  }\n",
              "\n",
              "  .colab-df-quickchart:hover {\n",
              "    background-color: var(--hover-bg-color);\n",
              "    box-shadow: 0 1px 2px rgba(60, 64, 67, 0.3), 0 1px 3px 1px rgba(60, 64, 67, 0.15);\n",
              "    fill: var(--button-hover-fill-color);\n",
              "  }\n",
              "\n",
              "  .colab-df-quickchart-complete:disabled,\n",
              "  .colab-df-quickchart-complete:disabled:hover {\n",
              "    background-color: var(--disabled-bg-color);\n",
              "    fill: var(--disabled-fill-color);\n",
              "    box-shadow: none;\n",
              "  }\n",
              "\n",
              "  .colab-df-spinner {\n",
              "    border: 2px solid var(--fill-color);\n",
              "    border-color: transparent;\n",
              "    border-bottom-color: var(--fill-color);\n",
              "    animation:\n",
              "      spin 1s steps(1) infinite;\n",
              "  }\n",
              "\n",
              "  @keyframes spin {\n",
              "    0% {\n",
              "      border-color: transparent;\n",
              "      border-bottom-color: var(--fill-color);\n",
              "      border-left-color: var(--fill-color);\n",
              "    }\n",
              "    20% {\n",
              "      border-color: transparent;\n",
              "      border-left-color: var(--fill-color);\n",
              "      border-top-color: var(--fill-color);\n",
              "    }\n",
              "    30% {\n",
              "      border-color: transparent;\n",
              "      border-left-color: var(--fill-color);\n",
              "      border-top-color: var(--fill-color);\n",
              "      border-right-color: var(--fill-color);\n",
              "    }\n",
              "    40% {\n",
              "      border-color: transparent;\n",
              "      border-right-color: var(--fill-color);\n",
              "      border-top-color: var(--fill-color);\n",
              "    }\n",
              "    60% {\n",
              "      border-color: transparent;\n",
              "      border-right-color: var(--fill-color);\n",
              "    }\n",
              "    80% {\n",
              "      border-color: transparent;\n",
              "      border-right-color: var(--fill-color);\n",
              "      border-bottom-color: var(--fill-color);\n",
              "    }\n",
              "    90% {\n",
              "      border-color: transparent;\n",
              "      border-bottom-color: var(--fill-color);\n",
              "    }\n",
              "  }\n",
              "</style>\n",
              "\n",
              "  <script>\n",
              "    async function quickchart(key) {\n",
              "      const quickchartButtonEl =\n",
              "        document.querySelector('#' + key + ' button');\n",
              "      quickchartButtonEl.disabled = true;  // To prevent multiple clicks.\n",
              "      quickchartButtonEl.classList.add('colab-df-spinner');\n",
              "      try {\n",
              "        const charts = await google.colab.kernel.invokeFunction(\n",
              "            'suggestCharts', [key], {});\n",
              "      } catch (error) {\n",
              "        console.error('Error during call to suggestCharts:', error);\n",
              "      }\n",
              "      quickchartButtonEl.classList.remove('colab-df-spinner');\n",
              "      quickchartButtonEl.classList.add('colab-df-quickchart-complete');\n",
              "    }\n",
              "    (() => {\n",
              "      let quickchartButtonEl =\n",
              "        document.querySelector('#df-64e4d6c4-3d3f-4072-a55f-6e145487d3f4 button');\n",
              "      quickchartButtonEl.style.display =\n",
              "        google.colab.kernel.accessAllowed ? 'block' : 'none';\n",
              "    })();\n",
              "  </script>\n",
              "</div>\n",
              "\n",
              "    </div>\n",
              "  </div>\n"
            ],
            "application/vnd.google.colaboratory.intrinsic+json": {
              "type": "dataframe",
              "summary": "{\n  \"name\": \"v\",\n  \"rows\": 5,\n  \"fields\": [\n    {\n      \"column\": \"Parameter\",\n      \"properties\": {\n        \"dtype\": \"string\",\n        \"num_unique_values\": 5,\n        \"samples\": [\n          \"Heritability\",\n          \"tau_beta\",\n          \"Proportion_causal\"\n        ],\n        \"semantic_type\": \"\",\n        \"description\": \"\"\n      }\n    },\n    {\n      \"column\": \"Value\",\n      \"properties\": {\n        \"dtype\": \"number\",\n        \"std\": 19206.728663440277,\n        \"min\": 3.521708151765779e-07,\n        \"max\": 42947.8046875,\n        \"num_unique_values\": 5,\n        \"samples\": [\n          0.005811734974796316,\n          42947.8046875,\n          0.015124963596463203\n        ],\n        \"semantic_type\": \"\",\n        \"description\": \"\"\n      }\n    }\n  ]\n}"
            }
          },
          "metadata": {},
          "execution_count": 6
        }
      ],
      "source": [
        "v.to_theta_table()"
      ]
    },
    {
      "cell_type": "markdown",
      "metadata": {
        "id": "4MaadfnBvdmM"
      },
      "source": [
        "**NOTE:** `VIPRS` is not a method used to estimate heritability or polygenicity (proportion of causal variants). However,\n",
        "we can obtain estimates for these quantities as part of the model fit.\n",
        "    \n",
        "As for summaries of the posterior distribution, one thing we can look at is the\n",
        "**P**osterior **I**nclusion **P**robability (**PIP**), which is a metric that summarizes\n",
        "the probability that the variant of interest is causal for the phenotype of interest (e.g. Standing Height):"
      ]
    },
    {
      "cell_type": "code",
      "execution_count": null,
      "metadata": {
        "ExecuteTime": {
          "end_time": "2024-04-05T19:39:29.120032Z",
          "start_time": "2024-04-05T19:39:28.919630Z"
        },
        "colab": {
          "base_uri": "https://localhost:8080/",
          "height": 465
        },
        "id": "5PRt7RAovdmM",
        "outputId": "0db47719-526d-4a33-e0c1-58edc6e0d8b6"
      },
      "outputs": [
        {
          "output_type": "execute_result",
          "data": {
            "text/plain": [
              "Text(0.5, 1.0, 'Posterior Inclusion Probability for Standing Height')"
            ]
          },
          "metadata": {},
          "execution_count": 8
        },
        {
          "output_type": "display_data",
          "data": {
            "text/plain": [
              "<Figure size 640x480 with 1 Axes>"
            ],
            "image/png": "[encoded data removed]"
          },
          "metadata": {}
        }
      ],
      "source": [
        "# Get the inferred effect sizes:\n",
        "effect_table = v.to_table(col_subset=('CHR', 'SNP', 'POS', 'A1', 'A2'))\n",
        "\n",
        "# Plot the PIP as a function of genomic position:\n",
        "\n",
        "plt.scatter(effect_table['POS'], effect_table['PIP'],\n",
        "            alpha=.4, marker='.')\n",
        "plt.xticks([])\n",
        "plt.xlabel(\"Genomic Position (CHR22)\")\n",
        "plt.ylabel(\"PIP\")\n",
        "plt.title(\"Posterior Inclusion Probability for Standing Height\")"
      ]
    },
    {
      "cell_type": "markdown",
      "metadata": {
        "ExecuteTime": {
          "end_time": "2024-04-05T19:41:54.083251Z",
          "start_time": "2024-04-05T19:41:54.076668Z"
        },
        "id": "UtsHyrMWvdmM"
      },
      "source": [
        "We see from this that most variants have very small probability of meaningfully contributing to Standing Height.\n",
        "Another illustrative thing that we can do is compare the posterior mean for the effect sizes obtained by `VIPRS`\n",
        "and compare it to the marginal effect sizes obtained from GWAS:"
      ]
    },
    {
      "cell_type": "code",
      "execution_count": null,
      "metadata": {
        "ExecuteTime": {
          "end_time": "2024-04-05T19:40:39.852050Z",
          "start_time": "2024-04-05T19:40:39.623387Z"
        },
        "colab": {
          "base_uri": "https://localhost:8080/",
          "height": 466
        },
        "id": "izgMSgqIvdmM",
        "outputId": "bb63144d-f5b1-4102-fb78-90802862baae"
      },
      "outputs": [
        {
          "output_type": "execute_result",
          "data": {
            "text/plain": [
              "[<matplotlib.lines.Line2D at 0x7d8782652b00>]"
            ]
          },
          "metadata": {},
          "execution_count": 9
        },
        {
          "output_type": "display_data",
          "data": {
            "text/plain": [
              "<Figure size 640x480 with 1 Axes>"
            ],
            "image/png": "[encoded data removed]"
          },
          "metadata": {}
        }
      ],
      "source": [
        "# Get the summary statistics table:\n",
        "# NOTE: For the purposes of comparing effects on the same scale,\n",
        "# here, we get standardized BETAs, which is why VIPRS uses for inference:\n",
        "sumstats = gdl.to_summary_statistics_table(col_subset=('CHR', 'SNP', 'POS', 'A1', 'A2', 'STD_BETA'))\n",
        "\n",
        "# Rename the BETAs for clarity:\n",
        "sumstats.rename(columns={'STD_BETA': 'GWAS_BETA'}, inplace=True)\n",
        "effect_table.rename(columns={'BETA': 'VIPRS_BETA'}, inplace=True)\n",
        "\n",
        "# Merge the two tables:\n",
        "merged_table = sumstats.merge(effect_table)\n",
        "\n",
        "# Plot the results:\n",
        "plt.scatter(merged_table['GWAS_BETA'],\n",
        "            merged_table['VIPRS_BETA'],\n",
        "            alpha=.5,\n",
        "            marker='.')\n",
        "plt.xlabel(\"Marginal BETA (GWAS)\")\n",
        "plt.ylabel(\"VIPRS Posterior Mean for BETA\")\n",
        "\n",
        "# Plot the unity line to highlight differences in magnitude:\n",
        "x = np.linspace(merged_table[['GWAS_BETA', 'VIPRS_BETA']].min().min(),\n",
        "                merged_table[['GWAS_BETA', 'VIPRS_BETA']].max().max(), 100)\n",
        "plt.plot(x, x, c='red', ls='--')"
      ]
    },
    {
      "cell_type": "markdown",
      "metadata": {
        "id": "Ng5mWjjxvdmM"
      },
      "source": [
        "This plot is a nice illustration of the **selective shrinkage** effect that results\n",
        "from using sparse Bayesian priors, like the **Spike-and-Slab prior** employed by `VIPRS`. Here, the effects\n",
        "for most variants are shrunk towards zero, whereas the few variants that are strongly associated\n",
        "with the phenotype retain their effects."
      ]
    },
    {
      "cell_type": "markdown",
      "metadata": {
        "ExecuteTime": {
          "end_time": "2024-04-05T17:05:12.134352Z",
          "start_time": "2024-04-05T17:05:12.075362Z"
        },
        "id": "BgkmgCpevdmM"
      },
      "source": [
        "## 4) Prediction / Generating polygenic scores"
      ]
    },
    {
      "cell_type": "markdown",
      "metadata": {
        "pycharm": {
          "name": "#%% md\n"
        },
        "id": "HKA_GmiCvdmM"
      },
      "source": [
        "Once convergence is achieved, we are going to predict (i.e. compute polygenic scores) on the European samples in the 1000G data. We do not have the observed height for the 1000G data so we cannot assess R-squared. Instead, we can visualize the distribution of the predicted standardized phenotype scores."
      ]
    },
    {
      "cell_type": "code",
      "execution_count": null,
      "metadata": {
        "ExecuteTime": {
          "end_time": "2024-04-05T17:12:04.390626Z",
          "start_time": "2024-04-05T17:12:04.069105Z"
        },
        "pycharm": {
          "name": "#%%\n"
        },
        "colab": {
          "base_uri": "https://localhost:8080/",
          "height": 507
        },
        "id": "H5qtKYkQvdmM",
        "outputId": "38dd7276-eccb-4856-d7d5-dac66d5b448e"
      },
      "outputs": [
        {
          "output_type": "stream",
          "name": "stdout",
          "text": [
            "> Generating polygenic scores...\n"
          ]
        },
        {
          "output_type": "execute_result",
          "data": {
            "text/plain": [
              "Text(0.5, 1.0, 'Height PGS in 1000G (EUR)')"
            ]
          },
          "metadata": {},
          "execution_count": 10
        },
        {
          "output_type": "display_data",
          "data": {
            "text/plain": [
              "<Figure size 640x480 with 1 Axes>"
            ],
            "image/png": "[encoded data removed]"
          },
          "metadata": {}
        }
      ],
      "source": [
        "# Obtain height PGS estimates for the European samples in 1000G Project:\n",
        "height_pgs = v.predict()\n",
        "\n",
        "# plot distribution of height PGS:\n",
        "\n",
        "plt.hist(height_pgs)\n",
        "plt.xlabel(\"Height PGS\")\n",
        "plt.title(\"Height PGS in 1000G (EUR)\")"
      ]
    }
  ],
  "metadata": {
    "kernelspec": {
      "display_name": "Python 3 (ipykernel)",
      "language": "python",
      "name": "python3"
    },
    "language_info": {
      "codemirror_mode": {
        "name": "ipython",
        "version": 3
      },
      "file_extension": ".py",
      "mimetype": "text/x-python",
      "name": "python",
      "nbconvert_exporter": "python",
      "pygments_lexer": "ipython3",
      "version": "3.11.5"
    },
    "colab": {
      "provenance": [],
      "toc_visible": true,
      "include_colab_link": true
    },
    "widgets": {
      "application/vnd.jupyter.widget-state+json": {
        "a3ce991c50bd46708b8791cdc342315d": {
          "model_module": "@jupyter-widgets/controls",
          "model_name": "HBoxModel",
          "model_module_version": "1.5.0",
          "state": {
            "_dom_classes": [],
            "_model_module": "@jupyter-widgets/controls",
            "_model_module_version": "1.5.0",
            "_model_name": "HBoxModel",
            "_view_count": null,
            "_view_module": "@jupyter-widgets/controls",
            "_view_module_version": "1.5.0",
            "_view_name": "HBoxView",
            "box_style": "",
            "children": [
              "IPY_MODEL_8cd17e9adb6f45328b0fefb437f7e925",
              "IPY_MODEL_d8706103d6b24b248194a3dd897dcfeb",
              "IPY_MODEL_a567233cdd664a74bc3a38e1f3d35899"
            ],
            "layout": "IPY_MODEL_0444aa27c66d41c4b7e154125abd2d80"
          }
        },
        "8cd17e9adb6f45328b0fefb437f7e925": {
          "model_module": "@jupyter-widgets/controls",
          "model_name": "HTMLModel",
          "model_module_version": "1.5.0",
          "state": {
            "_dom_classes": [],
            "_model_module": "@jupyter-widgets/controls",
            "_model_module_version": "1.5.0",
            "_model_name": "HTMLModel",
            "_view_count": null,
            "_view_module": "@jupyter-widgets/controls",
            "_view_module_version": "1.5.0",
            "_view_name": "HTMLView",
            "description": "",
            "description_tooltip": null,
            "layout": "IPY_MODEL_ab0f9fc4ca75450c86526e14d19e17b1",
            "placeholder": "​",
            "style": "IPY_MODEL_20d4977fd13f47b18e8934fa1e2542db",
            "value": "Chromosome 22 (15935 variants): 100%"
          }
        },
        "d8706103d6b24b248194a3dd897dcfeb": {
          "model_module": "@jupyter-widgets/controls",
          "model_name": "FloatProgressModel",
          "model_module_version": "1.5.0",
          "state": {
            "_dom_classes": [],
            "_model_module": "@jupyter-widgets/controls",
            "_model_module_version": "1.5.0",
            "_model_name": "FloatProgressModel",
            "_view_count": null,
            "_view_module": "@jupyter-widgets/controls",
            "_view_module_version": "1.5.0",
            "_view_name": "ProgressView",
            "bar_style": "danger",
            "description": "",
            "description_tooltip": null,
            "layout": "IPY_MODEL_486b42c5f34d453d9f3d2b3ecea99012",
            "max": 1000,
            "min": 0,
            "orientation": "horizontal",
            "style": "IPY_MODEL_c133b1d458ef49e3bccedf5ed8958341",
            "value": 54
          }
        },
        "a567233cdd664a74bc3a38e1f3d35899": {
          "model_module": "@jupyter-widgets/controls",
          "model_name": "HTMLModel",
          "model_module_version": "1.5.0",
          "state": {
            "_dom_classes": [],
            "_model_module": "@jupyter-widgets/controls",
            "_model_module_version": "1.5.0",
            "_model_name": "HTMLModel",
            "_view_count": null,
            "_view_module": "@jupyter-widgets/controls",
            "_view_module_version": "1.5.0",
            "_view_name": "HTMLView",
            "description": "",
            "description_tooltip": null,
            "layout": "IPY_MODEL_fbb7a334506143f39a36b89ceb057e94",
            "placeholder": "​",
            "style": "IPY_MODEL_b0599efc09854491b5787e83bce5890e",
            "value": " 54/54 [00:01&lt;00:00, 34.15it/s, Final ELBO=-640937.2570]"
          }
        },
        "0444aa27c66d41c4b7e154125abd2d80": {
          "model_module": "@jupyter-widgets/base",
          "model_name": "LayoutModel",
          "model_module_version": "1.2.0",
          "state": {
            "_model_module": "@jupyter-widgets/base",
            "_model_module_version": "1.2.0",
            "_model_name": "LayoutModel",
            "_view_count": null,
            "_view_module": "@jupyter-widgets/base",
            "_view_module_version": "1.2.0",
            "_view_name": "LayoutView",
            "align_content": null,
            "align_items": null,
            "align_self": null,
            "border": null,
            "bottom": null,
            "display": null,
            "flex": null,
            "flex_flow": null,
            "grid_area": null,
            "grid_auto_columns": null,
            "grid_auto_flow": null,
            "grid_auto_rows": null,
            "grid_column": null,
            "grid_gap": null,
            "grid_row": null,
            "grid_template_areas": null,
            "grid_template_columns": null,
            "grid_template_rows": null,
            "height": null,
            "justify_content": null,
            "justify_items": null,
            "left": null,
            "margin": null,
            "max_height": null,
            "max_width": null,
            "min_height": null,
            "min_width": null,
            "object_fit": null,
            "object_position": null,
            "order": null,
            "overflow": null,
            "overflow_x": null,
            "overflow_y": null,
            "padding": null,
            "right": null,
            "top": null,
            "visibility": null,
            "width": null
          }
        },
        "ab0f9fc4ca75450c86526e14d19e17b1": {
          "model_module": "@jupyter-widgets/base",
          "model_name": "LayoutModel",
          "model_module_version": "1.2.0",
          "state": {
            "_model_module": "@jupyter-widgets/base",
            "_model_module_version": "1.2.0",
            "_model_name": "LayoutModel",
            "_view_count": null,
            "_view_module": "@jupyter-widgets/base",
            "_view_module_version": "1.2.0",
            "_view_name": "LayoutView",
            "align_content": null,
            "align_items": null,
            "align_self": null,
            "border": null,
            "bottom": null,
            "display": null,
            "flex": null,
            "flex_flow": null,
            "grid_area": null,
            "grid_auto_columns": null,
            "grid_auto_flow": null,
            "grid_auto_rows": null,
            "grid_column": null,
            "grid_gap": null,
            "grid_row": null,
            "grid_template_areas": null,
            "grid_template_columns": null,
            "grid_template_rows": null,
            "height": null,
            "justify_content": null,
            "justify_items": null,
            "left": null,
            "margin": null,
            "max_height": null,
            "max_width": null,
            "min_height": null,
            "min_width": null,
            "object_fit": null,
            "object_position": null,
            "order": null,
            "overflow": null,
            "overflow_x": null,
            "overflow_y": null,
            "padding": null,
            "right": null,
            "top": null,
            "visibility": null,
            "width": null
          }
        },
        "20d4977fd13f47b18e8934fa1e2542db": {
          "model_module": "@jupyter-widgets/controls",
          "model_name": "DescriptionStyleModel",
          "model_module_version": "1.5.0",
          "state": {
            "_model_module": "@jupyter-widgets/controls",
            "_model_module_version": "1.5.0",
            "_model_name": "DescriptionStyleModel",
            "_view_count": null,
            "_view_module": "@jupyter-widgets/base",
            "_view_module_version": "1.2.0",
            "_view_name": "StyleView",
            "description_width": ""
          }
        },
        "486b42c5f34d453d9f3d2b3ecea99012": {
          "model_module": "@jupyter-widgets/base",
          "model_name": "LayoutModel",
          "model_module_version": "1.2.0",
          "state": {
            "_model_module": "@jupyter-widgets/base",
            "_model_module_version": "1.2.0",
            "_model_name": "LayoutModel",
            "_view_count": null,
            "_view_module": "@jupyter-widgets/base",
            "_view_module_version": "1.2.0",
            "_view_name": "LayoutView",
            "align_content": null,
            "align_items": null,
            "align_self": null,
            "border": null,
            "bottom": null,
            "display": null,
            "flex": null,
            "flex_flow": null,
            "grid_area": null,
            "grid_auto_columns": null,
            "grid_auto_flow": null,
            "grid_auto_rows": null,
            "grid_column": null,
            "grid_gap": null,
            "grid_row": null,
            "grid_template_areas": null,
            "grid_template_columns": null,
            "grid_template_rows": null,
            "height": null,
            "justify_content": null,
            "justify_items": null,
            "left": null,
            "margin": null,
            "max_height": null,
            "max_width": null,
            "min_height": null,
            "min_width": null,
            "object_fit": null,
            "object_position": null,
            "order": null,
            "overflow": null,
            "overflow_x": null,
            "overflow_y": null,
            "padding": null,
            "right": null,
            "top": null,
            "visibility": null,
            "width": null
          }
        },
        "c133b1d458ef49e3bccedf5ed8958341": {
          "model_module": "@jupyter-widgets/controls",
          "model_name": "ProgressStyleModel",
          "model_module_version": "1.5.0",
          "state": {
            "_model_module": "@jupyter-widgets/controls",
            "_model_module_version": "1.5.0",
            "_model_name": "ProgressStyleModel",
            "_view_count": null,
            "_view_module": "@jupyter-widgets/base",
            "_view_module_version": "1.2.0",
            "_view_name": "StyleView",
            "bar_color": null,
            "description_width": ""
          }
        },
        "fbb7a334506143f39a36b89ceb057e94": {
          "model_module": "@jupyter-widgets/base",
          "model_name": "LayoutModel",
          "model_module_version": "1.2.0",
          "state": {
            "_model_module": "@jupyter-widgets/base",
            "_model_module_version": "1.2.0",
            "_model_name": "LayoutModel",
            "_view_count": null,
            "_view_module": "@jupyter-widgets/base",
            "_view_module_version": "1.2.0",
            "_view_name": "LayoutView",
            "align_content": null,
            "align_items": null,
            "align_self": null,
            "border": null,
            "bottom": null,
            "display": null,
            "flex": null,
            "flex_flow": null,
            "grid_area": null,
            "grid_auto_columns": null,
            "grid_auto_flow": null,
            "grid_auto_rows": null,
            "grid_column": null,
            "grid_gap": null,
            "grid_row": null,
            "grid_template_areas": null,
            "grid_template_columns": null,
            "grid_template_rows": null,
            "height": null,
            "justify_content": null,
            "justify_items": null,
            "left": null,
            "margin": null,
            "max_height": null,
            "max_width": null,
            "min_height": null,
            "min_width": null,
            "object_fit": null,
            "object_position": null,
            "order": null,
            "overflow": null,
            "overflow_x": null,
            "overflow_y": null,
            "padding": null,
            "right": null,
            "top": null,
            "visibility": null,
            "width": null
          }
        },
        "b0599efc09854491b5787e83bce5890e": {
          "model_module": "@jupyter-widgets/controls",
          "model_name": "DescriptionStyleModel",
          "model_module_version": "1.5.0",
          "state": {
            "_model_module": "@jupyter-widgets/controls",
            "_model_module_version": "1.5.0",
            "_model_name": "DescriptionStyleModel",
            "_view_count": null,
            "_view_module": "@jupyter-widgets/base",
            "_view_module_version": "1.2.0",
            "_view_name": "StyleView",
            "description_width": ""
          }
        }
      }
    }
  },
  "nbformat": 4,
  "nbformat_minor": 0
}